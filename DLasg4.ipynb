{
 "cells": [
  {
   "cell_type": "code",
   "execution_count": 0,
   "metadata": {
    "colab": {},
    "colab_type": "code",
    "id": "96Zm2vLcPXb-"
   },
   "outputs": [],
   "source": [
    "import numpy as np\n",
    "import torch\n",
    "import torchvision\n",
    "import matplotlib.pyplot as plt\n",
    "import torchvision\n",
    "import torch\n",
    "import tensorflow as tf\n",
    "from torch.utils import data"
   ]
  },
  {
   "cell_type": "code",
   "execution_count": 0,
   "metadata": {
    "colab": {},
    "colab_type": "code",
    "id": "RAdaPrdIPfFk"
   },
   "outputs": [],
   "source": [
    "device = torch.device(\"cuda:0\" if torch.cuda.is_available() else \"cpu\")\n",
    "transform=torchvision.transforms.Compose([\n",
    "                               torchvision.transforms.ToTensor(),\n",
    "                               torchvision.transforms.Normalize(\n",
    "                                 (0.1307,), (0.3081,))])\n",
    "\n",
    "trainset = torchvision.datasets.MNIST(root='./data', train=True,download=True, transform=transform)\n",
    "\n",
    "testset = torchvision.datasets.MNIST(root='./data', train=False,download=True, transform=transform)\n",
    "\n",
    "trainloader = torch.utils.data.DataLoader(trainset, batch_size=60000, shuffle=True)\n",
    "\n",
    "testloader = torch.utils.data.DataLoader(testset, batch_size=10000, shuffle=True)\n",
    "\n",
    "sample = enumerate(trainloader)\n",
    "batch_idx, (x_train, y_train) = next(sample)\n",
    "\n",
    "sample = enumerate(testloader)\n",
    "batch_idx, (x_test, y_test) = next(sample)\n",
    "\n",
    "x_train = torch.reshape(x_train,(x_train.shape[0],x_train.shape[2]*x_train.shape[3]))\n",
    "x_test = torch.reshape(x_test,(x_test.shape[0],x_test.shape[2]*x_test.shape[3]))"
   ]
  },
  {
   "cell_type": "code",
   "execution_count": 0,
   "metadata": {
    "colab": {},
    "colab_type": "code",
    "id": "Hqf-1r15w9Ry"
   },
   "outputs": [],
   "source": [
    "from sklearn.model_selection import train_test_split\n",
    "x_train,remove_trainx, y_train, remove_trainy=train_test_split(x_train,y_train,test_size=0.83332,stratify=y_train,random_state=875)\n",
    "trainset_new=data.TensorDataset(x_train,y_train)\n",
    "trainloader=torch.utils.data.DataLoader(trainset_new, batch_size=100, shuffle=True)"
   ]
  },
  {
   "cell_type": "code",
   "execution_count": 0,
   "metadata": {
    "colab": {},
    "colab_type": "code",
    "id": "3y_k_SD0PhQJ"
   },
   "outputs": [],
   "source": [
    "LR = 0.001\n",
    "EPOCH_NUM = 80\n",
    "BATCH_SIZE = 100\n",
    "K = [1,3,5,10,15,20,30,40]\n",
    "prob = [0.0,0.5,0.9]\n",
    "train_acc = np.zeros((len(K), len(prob), EPOCH_NUM))\n",
    "test_acc = np.zeros((len(K), len(prob), EPOCH_NUM))\n",
    "train_loss = np.zeros((len(K), len(prob), EPOCH_NUM))"
   ]
  },
  {
   "cell_type": "markdown",
   "metadata": {
    "colab_type": "text",
    "id": "gTaPuCKRTDc8"
   },
   "source": [
    "#1. Code for running multiple values of K and p over MNIST model"
   ]
  },
  {
   "cell_type": "code",
   "execution_count": 0,
   "metadata": {
    "colab": {},
    "colab_type": "code",
    "id": "Z7qriG2UPuzn"
   },
   "outputs": [],
   "source": [
    "for i in range(len(K)):\n",
    "    for j in range(len(prob)):\n",
    "        lin1 = torch.nn.Linear(784, K[i], bias=True)\n",
    "        lin2 = torch.nn.Linear(K[i],10, bias=True)\n",
    "        relu = torch.nn.ReLU()\n",
    "        soft = torch.nn.Softmax(dim=1)\n",
    "        drop = torch.nn.Dropout(p=prob[j])\n",
    "        torch.nn.init.kaiming_normal_(lin1.weight, mode='fan_out', nonlinearity='relu')\n",
    "        torch.nn.init.kaiming_normal_(lin2.weight, mode='fan_out', nonlinearity='relu')\n",
    "        model = torch.nn.Sequential(lin1, relu, lin2, drop, soft).to(device)\n",
    "        criterion = torch.nn.CrossEntropyLoss()\n",
    "        optimizer = torch.optim.Adam(model.parameters(), lr=LR)\n",
    "\n",
    "        for e in range(EPOCH_NUM):\n",
    "            loss  = 0\n",
    "            model.train()\n",
    "            for batch_idx, (data, target) in enumerate(trainloader):\n",
    "                data = data.to(device)\n",
    "                target = target.long().to(device)\n",
    "                optimizer.zero_grad()\n",
    "                output = model(data)\n",
    "                loss = criterion(output, target)\n",
    "                loss.backward()\n",
    "                optimizer.step()\n",
    "                loss += loss.item()\n",
    "            train_loss[i,j,e] = loss/(batch_idx+1)\n",
    "            all_ops = model(x_train.to(device))\n",
    "            _, pred = all_ops.max(1)\n",
    "            corr = pred.eq(y_train.long().to(device)).sum().item()/x_train.shape[0]\n",
    "            train_acc[i,j,e] = 100*corr\n",
    "            model.eval()\n",
    "            test_ops = model(x_test.to(device))\n",
    "            _, test_pred = test_ops.max(1)\n",
    "            test_corr = test_pred.eq(y_test.long().to(device)).sum().item()/x_test.shape[0]\n",
    "            test_acc[i,j,e] = 100*test_corr"
   ]
  },
  {
   "cell_type": "code",
   "execution_count": 190,
   "metadata": {
    "colab": {
     "base_uri": "https://localhost:8080/",
     "height": 301
    },
    "colab_type": "code",
    "id": "H8GnXm7EUf1y",
    "outputId": "3a3f2278-de04-49de-f12c-eac53a678247"
   },
   "outputs": [
    {
     "name": "stdout",
     "output_type": "stream",
     "text": [
      "For P = 1.0 Max train Accuracy: 97.63  at K =  40\n",
      "For P = 1.0 Max Test Accuracy: 93.62  at K =  40\n"
     ]
    },
    {
     "data": {
      "image/png": "[encoded data removed]",
      "text/plain": [
       "<Figure size 432x288 with 1 Axes>"
      ]
     },
     "metadata": {
      "needs_background": "light",
      "tags": []
     },
     "output_type": "display_data"
    }
   ],
   "source": [
    "plt.figure()\n",
    "x = np.unravel_index(np.argmax(train_acc[:,0,-1], axis=None), train_acc[:,0,-1].shape)\n",
    "print(\"For P = 1.0\", end=' ')\n",
    "print('Max train Accuracy: {:.2f}'.format(np.max(train_acc[:,0,-1])),' at K = ',K[x[0]])\n",
    "b = []\n",
    "for i in range(len(K)):\n",
    "    b.append(train_acc[i,0,-1])\n",
    "plt.plot(b)\n",
    "x = np.unravel_index(np.argmax(test_acc[:,0,-1], axis=None), test_acc[:,0,-1].shape)\n",
    "print(\"For P = 1.0\",end=' ')\n",
    "print('Max Test Accuracy: {:.2f}'.format(np.max(test_acc[:,0,-1])),' at K = ',K[x[0]])\n",
    "b = []\n",
    "for i in range(len(K)):\n",
    "    b.append(test_acc[i,0,-1])\n",
    "plt.plot(b)\n",
    "plt.show()"
   ]
  },
  {
   "cell_type": "markdown",
   "metadata": {
    "colab_type": "text",
    "id": "MNM-8rgXTWY-"
   },
   "source": [
    "###2. a) As we can see as k increases the  training accuracy also increases, while k at k=40 the training accuracy is the maximum."
   ]
  },
  {
   "cell_type": "code",
   "execution_count": 191,
   "metadata": {
    "colab": {
     "base_uri": "https://localhost:8080/",
     "height": 317
    },
    "colab_type": "code",
    "id": "Blzylh2sFr_g",
    "outputId": "4f49179e-9740-4e5e-f50b-2c9e748fd086"
   },
   "outputs": [
    {
     "name": "stdout",
     "output_type": "stream",
     "text": [
      "For P = 1.0 Max train Accuracy: 97.63  at K =  40\n",
      "For P = 0.5 Max train Accuracy: 55.68  at K =  15\n",
      "For P = 0.1 Max train Accuracy: 17.14  at K =  30\n"
     ]
    },
    {
     "data": {
      "image/png": "[encoded data removed]",
      "text/plain": [
       "<Figure size 432x288 with 1 Axes>"
      ]
     },
     "metadata": {
      "needs_background": "light",
      "tags": []
     },
     "output_type": "display_data"
    }
   ],
   "source": [
    "plt.figure()\n",
    "for j in range(len(prob)):\n",
    "    x = np.unravel_index(np.argmax(train_acc[:,j,-1], axis=None), train_acc[:,j,-1].shape)\n",
    "    print('For P = {:.1f}'.format(1-prob[j]), end=' ')\n",
    "    print('Max train Accuracy: {:.2f}'.format(np.max(train_acc[:,j,-1])),' at K = ',K[x[0]])\n",
    "    b = []\n",
    "    for i in range(len(K)):\n",
    "        b.append(train_acc[i,j,-1])\n",
    "    plt.plot(b)\n",
    "plt.show()"
   ]
  },
  {
   "cell_type": "markdown",
   "metadata": {
    "colab_type": "text",
    "id": "14QPXYKnVTld"
   },
   "source": [
    "###2. b) Plotting the train accuracy as a function of k , as P increase the accuracy seems to increase and we can see the max train accuracy for each p. Optimizing becomes difficult when p is small.\n"
   ]
  },
  {
   "cell_type": "code",
   "execution_count": 192,
   "metadata": {
    "colab": {
     "base_uri": "https://localhost:8080/",
     "height": 317
    },
    "colab_type": "code",
    "id": "q_SXlrarFtCm",
    "outputId": "60bba2ca-613a-41c8-9175-19bf0dcb9282"
   },
   "outputs": [
    {
     "name": "stdout",
     "output_type": "stream",
     "text": [
      "For P = 1.0 Max test Accuracy: 93.62  at K =  40\n",
      "For P = 0.5 Max test Accuracy: 90.94  at K =  15\n",
      "For P = 0.1 Max test Accuracy: 72.62  at K =  30\n"
     ]
    },
    {
     "data": {
      "image/png": "[encoded data removed]",
      "text/plain": [
       "<Figure size 432x288 with 1 Axes>"
      ]
     },
     "metadata": {
      "needs_background": "light",
      "tags": []
     },
     "output_type": "display_data"
    }
   ],
   "source": [
    "plt.figure()\n",
    "for j in range(len(prob)):\n",
    "    x = np.unravel_index(np.argmax(test_acc[:,j,-1], axis=None), test_acc[:,j,-1].shape)\n",
    "    print('For P = {:.1f}'.format(1-prob[j]), end=' ')\n",
    "    print('Max test Accuracy: {:.2f}'.format(np.max(test_acc[:,j,-1])),' at K = ',K[x[0]])\n",
    "    b = []\n",
    "    for i in range(len(K)):\n",
    "        b.append(test_acc[i,j,-1])\n",
    "    plt.plot(b)\n",
    "plt.show()"
   ]
  },
  {
   "cell_type": "markdown",
   "metadata": {
    "colab_type": "text",
    "id": "Z59wE53ZVwIY"
   },
   "source": [
    "###2. c) As the value of p increases the test accuracy increase. The best accuracy is for k=40 and p=1.0"
   ]
  },
  {
   "cell_type": "markdown",
   "metadata": {
    "colab_type": "text",
    "id": "Du0KgoubTXU3"
   },
   "source": [
    "#3. Adding noise to the 40% of the labels. \n"
   ]
  },
  {
   "cell_type": "code",
   "execution_count": 0,
   "metadata": {
    "colab": {},
    "colab_type": "code",
    "id": "rWjcc45mQ0jP"
   },
   "outputs": [],
   "source": [
    "import random\n",
    "y_noise=y_train.numpy()\n",
    "\n",
    "for i in range(4000):\n",
    "  k=random.choice(r)\n",
    "  if(k==y_noise[i]):\n",
    "    y_noise[i]=random.choice(r)\n",
    "  else:\n",
    "    y_noise[i]=k"
   ]
  },
  {
   "cell_type": "code",
   "execution_count": 0,
   "metadata": {
    "colab": {},
    "colab_type": "code",
    "id": "qptuXKGazErq"
   },
   "outputs": [],
   "source": [
    "y_noise=torch.from_numpy(y_noise)"
   ]
  },
  {
   "cell_type": "code",
   "execution_count": 0,
   "metadata": {
    "colab": {},
    "colab_type": "code",
    "id": "ObGvAThuSpFA"
   },
   "outputs": [],
   "source": [
    "from torch.utils import data\n",
    "trainsetnew=data.TensorDataset(x_train,y_noise)"
   ]
  },
  {
   "cell_type": "code",
   "execution_count": 0,
   "metadata": {
    "colab": {},
    "colab_type": "code",
    "id": "--mJJrVNygJ4"
   },
   "outputs": [],
   "source": [
    "trainloadernew = torch.utils.data.DataLoader(trainsetnew, batch_size=100, shuffle=True)"
   ]
  },
  {
   "cell_type": "code",
   "execution_count": 0,
   "metadata": {
    "colab": {},
    "colab_type": "code",
    "id": "pNijOfQ33Ygm"
   },
   "outputs": [],
   "source": [
    "LR = 0.01\n",
    "EPOCH_NUM = 80\n",
    "BATCH_SIZE = 100\n",
    "K = [1,3,5,10,15,20,30,40]\n",
    "prob = [0.0,0.5,0.9]\n",
    "train_acc = np.zeros((len(K), len(prob), EPOCH_NUM))\n",
    "test_acc = np.zeros((len(K), len(prob), EPOCH_NUM))\n",
    "train_loss = np.zeros((len(K), len(prob), EPOCH_NUM))"
   ]
  },
  {
   "cell_type": "code",
   "execution_count": 0,
   "metadata": {
    "colab": {},
    "colab_type": "code",
    "id": "4A0B8QYQxaX6"
   },
   "outputs": [],
   "source": [
    "for i in range(len(K)):\n",
    "    for j in range(len(prob)):\n",
    "        linear1 = torch.nn.Linear(784, K[i], bias=True)\n",
    "        linear2 = torch.nn.Linear(K[i],10, bias=True)\n",
    "        relu = torch.nn.ReLU()\n",
    "        soft = torch.nn.Softmax(dim=1)\n",
    "        drop = torch.nn.Dropout(p=prob[j])\n",
    "        torch.nn.init.kaiming_normal_(linear1.weight, mode='fan_out', nonlinearity='relu')\n",
    "        torch.nn.init.kaiming_normal_(linear2.weight, mode='fan_out', nonlinearity='relu')\n",
    "        model = torch.nn.Sequential(linear1, relu, linear2, drop, soft).to(device)\n",
    "        criterion = torch.nn.CrossEntropyLoss()\n",
    "        optimizer = torch.optim.Adam(model.parameters(), lr=LR)\n",
    "\n",
    "        for e in range(EPOCH_NUM):\n",
    "            loss  = 0\n",
    "            model.train()\n",
    "            for batch_idx, (data, target) in enumerate(trainloadernew):\n",
    "                data = data.to(device)\n",
    "                target = target.long().to(device)\n",
    "                optimizer.zero_grad()\n",
    "                output = model(data)\n",
    "                loss = criterion(output, target)\n",
    "                loss.backward()\n",
    "                optimizer.step()\n",
    "                loss += loss.item()\n",
    "            train_loss[i,j,e] = loss/(batch_idx+1)\n",
    "            all_ops = model(x_train.to(device))\n",
    "            _, pred = all_ops.max(1)\n",
    "            corr = pred.eq(y_noise.long().to(device)).sum().item()/x_train.shape[0]\n",
    "            train_acc[i,j,e] = 100*corr\n",
    "            model.eval()\n",
    "            test_ops = model(x_test.to(device))\n",
    "            _, test_pred = test_ops.max(1)\n",
    "            test_corr = test_pred.eq(y_test.long().to(device)).sum().item()/x_test.shape[0]\n",
    "            test_acc[i,j,e] = 100*test_corr"
   ]
  },
  {
   "cell_type": "code",
   "execution_count": 199,
   "metadata": {
    "colab": {
     "base_uri": "https://localhost:8080/",
     "height": 300
    },
    "colab_type": "code",
    "id": "Vp8xjSFF5ef4",
    "outputId": "fed9dbfe-092a-4268-c5ee-e175c23b0b38"
   },
   "outputs": [
    {
     "name": "stdout",
     "output_type": "stream",
     "text": [
      "For P = 1.0 Max train Accuracy: 57.41  at K =  15\n",
      "For P = 1.0 Max Test Accuracy: 89.71  at K =  15\n"
     ]
    },
    {
     "data": {
      "image/png": "[encoded data removed]",
      "text/plain": [
       "<Figure size 432x288 with 1 Axes>"
      ]
     },
     "metadata": {
      "needs_background": "light",
      "tags": []
     },
     "output_type": "display_data"
    }
   ],
   "source": [
    "plt.figure()\n",
    "x = np.unravel_index(np.argmax(train_acc[:,0,-1], axis=None), train_acc[:,0,-1].shape)\n",
    "print(\"For P = 1.0\", end=' ')\n",
    "print('Max train Accuracy: {:.2f}'.format(np.max(train_acc[:,0,-1])),' at K = ',K[x[0]])\n",
    "b = []\n",
    "for i in range(len(K)):\n",
    "    b.append(train_acc[i,0,-1])\n",
    "plt.plot(b)\n",
    "x = np.unravel_index(np.argmax(test_acc[:,0,-1], axis=None), test_acc[:,0,-1].shape)\n",
    "print(\"For P = 1.0\",end=' ')\n",
    "print('Max Test Accuracy: {:.2f}'.format(np.max(test_acc[:,0,-1])),' at K = ',K[x[0]])\n",
    "b = []\n",
    "for i in range(len(K)):\n",
    "    b.append(test_acc[i,0,-1])\n",
    "plt.plot(b)\n",
    "plt.show()"
   ]
  },
  {
   "cell_type": "markdown",
   "metadata": {
    "colab_type": "text",
    "id": "bK2TpkDKd5ti"
   },
   "source": [
    "###3. a) As we can see as k increases the training accuracy also increases, while k at k=15 the training accuracy is the maximum."
   ]
  },
  {
   "cell_type": "code",
   "execution_count": 200,
   "metadata": {
    "colab": {
     "base_uri": "https://localhost:8080/",
     "height": 317
    },
    "colab_type": "code",
    "id": "0YBZy3aa5hwD",
    "outputId": "b02f12f4-de8a-42df-e2d0-ca4d7f8c1ef4"
   },
   "outputs": [
    {
     "name": "stdout",
     "output_type": "stream",
     "text": [
      "For P = 1.0 Max train Accuracy: 57.41  at K =  15\n",
      "For P = 0.5 Max train Accuracy: 30.14  at K =  5\n",
      "For P = 0.1 Max train Accuracy: 11.90  at K =  3\n"
     ]
    },
    {
     "data": {
      "image/png": "[encoded data removed]",
      "text/plain": [
       "<Figure size 432x288 with 1 Axes>"
      ]
     },
     "metadata": {
      "needs_background": "light",
      "tags": []
     },
     "output_type": "display_data"
    }
   ],
   "source": [
    "# Train accuracy for all values of K and P\n",
    "plt.figure()\n",
    "for j in range(len(prob)):\n",
    "    x = np.unravel_index(np.argmax(train_acc[:,j,-1], axis=None), train_acc[:,j,-1].shape)\n",
    "    print('For P = {:.1f}'.format(1-prob[j]), end=' ')\n",
    "    print('Max train Accuracy: {:.2f}'.format(np.max(train_acc[:,j,-1])),' at K = ',K[x[0]])\n",
    "    b = []\n",
    "    for i in range(len(K)):\n",
    "        b.append(train_acc[i,j,-1])\n",
    "    plt.plot(b)\n",
    "plt.show()"
   ]
  },
  {
   "cell_type": "markdown",
   "metadata": {
    "colab_type": "text",
    "id": "H9m7G2kLeBuk"
   },
   "source": [
    "###3. b) Plotting the train accuracy as a function of k , as P increase the accuracy seems to increase and we can see the max train accuracy for each p. Optimizing becomes difficult when p is small."
   ]
  },
  {
   "cell_type": "code",
   "execution_count": 201,
   "metadata": {
    "colab": {
     "base_uri": "https://localhost:8080/",
     "height": 317
    },
    "colab_type": "code",
    "id": "Sner_Ub7Pzkx",
    "outputId": "48c7f64b-a1d0-418a-ee7c-22aeb253b414"
   },
   "outputs": [
    {
     "name": "stdout",
     "output_type": "stream",
     "text": [
      "For P = 1.0 Max test Accuracy: 89.71  at K =  15\n",
      "For P = 0.5 Max test Accuracy: 71.56  at K =  5\n",
      "For P = 0.1 Max test Accuracy: 25.64  at K =  3\n"
     ]
    },
    {
     "data": {
      "image/png": "[encoded data removed]",
      "text/plain": [
       "<Figure size 432x288 with 1 Axes>"
      ]
     },
     "metadata": {
      "needs_background": "light",
      "tags": []
     },
     "output_type": "display_data"
    }
   ],
   "source": [
    "# Test accuracy for all values of K and P\n",
    "plt.figure()\n",
    "for j in range(len(prob)):\n",
    "    x = np.unravel_index(np.argmax(test_acc[:,j,-1], axis=None), test_acc[:,j,-1].shape)\n",
    "    print('For P = {:.1f}'.format(1-prob[j]), end=' ')\n",
    "    print('Max test Accuracy: {:.2f}'.format(np.max(test_acc[:,j,-1])),' at K = ',K[x[0]])\n",
    "    b = []\n",
    "    for i in range(len(K)):\n",
    "        b.append(test_acc[i,j,-1])\n",
    "    plt.plot(b)\n",
    "plt.show()"
   ]
  },
  {
   "cell_type": "markdown",
   "metadata": {
    "colab_type": "text",
    "id": "EzCqPrhiePG0"
   },
   "source": [
    "###3. c) As the value of p increases the test accuracy increase. The best accuracy is for k=15 and p=1.0"
   ]
  },
  {
   "cell_type": "markdown",
   "metadata": {
    "colab_type": "text",
    "id": "h1TFmBKFeb3Y"
   },
   "source": [
    "#4. Step 2 and Step 3 create a huge difference for training accuracy as it drops down when noise is added to the input. Droput turns to be more useful in the case of p being very small , which makes it essential for dropping out the unnecessary features which are not impactful for the outcome."
   ]
  },
  {
   "cell_type": "markdown",
   "metadata": {
    "colab_type": "text",
    "id": "YFhfnVPAe6XZ"
   },
   "source": []
  }
 ],
 "metadata": {
  "accelerator": "GPU",
  "colab": {
   "collapsed_sections": [],
   "name": "DLasg4",
   "provenance": []
  },
  "kernelspec": {
   "display_name": "Python 3",
   "language": "python",
   "name": "python3"
  },
  "language_info": {
   "codemirror_mode": {
    "name": "ipython",
    "version": 3
   },
   "file_extension": ".py",
   "mimetype": "text/x-python",
   "name": "python",
   "nbconvert_exporter": "python",
   "pygments_lexer": "ipython3",
   "version": "3.6.9"
  }
 },
 "nbformat": 4,
 "nbformat_minor": 1
}
